{
 "cells": [
  {
   "cell_type": "code",
   "execution_count": 4,
   "id": "631ff489-3935-4419-811a-d6656f48ae10",
   "metadata": {},
   "outputs": [],
   "source": [
    "import requests\n",
    "from bs4 import BeautifulSoup\n",
    "from urllib.request import urlopen as uReq\n",
    "import os\n"
   ]
  },
  {
   "cell_type": "code",
   "execution_count": 6,
   "id": "0c4b3d18-8bcd-4576-89b8-e386c0ec4613",
   "metadata": {},
   "outputs": [],
   "source": [
    "save_dir = \"images/\"\n",
    "if not os.path.exists(save_dir):\n",
    "    os.makedirs(save_dir)"
   ]
  },
  {
   "cell_type": "code",
   "execution_count": 9,
   "id": "aed61e3d-f9ac-4c4b-926a-5a89f4ab4649",
   "metadata": {},
   "outputs": [],
   "source": [
    "query = \"sudhanshu kumar ineuron\"\n",
    "response = requests.get(f\"https://www.google.com/search?q={query}&sxsrf=AJOqlzUuff1RXi2mm8I_OqOwT9VjfIDL7w:1676996143273&source=lnms&tbm=isch&sa=X&ved=2ahUKEwiq-qK7gaf9AhXUgVYBHYReAfYQ_AUoA3oECAEQBQ&biw=1920&bih=937&dpr=1#imgrc=1th7VhSesfMJ4M\")"
   ]
  },
  {
   "cell_type": "code",
   "execution_count": 10,
   "id": "831bd9cd-9bcd-4958-a639-eef5aae054c3",
   "metadata": {},
   "outputs": [
    {
     "data": {
      "text/plain": [
       "<Response [200]>"
      ]
     },
     "execution_count": 10,
     "metadata": {},
     "output_type": "execute_result"
    }
   ],
   "source": [
    "response"
   ]
  },
  {
   "cell_type": "code",
   "execution_count": 13,
   "id": "cfb800f3-ebc2-4f42-a441-60c36cec53ff",
   "metadata": {},
   "outputs": [],
   "source": [
    "soup = BeautifulSoup(response.content,'html.parser')   #just give me content available"
   ]
  },
  {
   "cell_type": "code",
   "execution_count": 12,
   "id": "527f115c-d9e4-46b5-80f7-21a7262a7da2",
   "metadata": {},
   "outputs": [
    {
     "data": {
      "text/plain": [
       "<!DOCTYPE html PUBLIC \"-//WAPFORUM//DTD XHTML Mobile 1.0//EN\" \"http://www.wapforum.org/DTD/xhtml-mobile10.dtd\">\n",
       "<html lang=\"en-IN\" xmlns=\"http://www.w3.org/1999/xhtml\"><head><meta content=\"application/xhtml+xml; charset=utf-8\" http-equiv=\"Content-Type\"/><meta content=\"no-cache\" name=\"Cache-Control\"/><title>sudhanshu kumar ineuron - Google Search</title><style>a{text-decoration:none;color:inherit}a:hover{text-decoration:underline}a img{border:0}body{font-family:arial,sans-serif;padding:8px;margin:0 auto;max-width:700px;min-width:240px;}.FbhRzb{border-left:thin solid #dadce0;border-right:thin solid #dadce0;border-top:thin solid #dadce0;height:40px;overflow:hidden}.n692Zd{margin-bottom:10px}.cvifge{height:40px;border-spacing:0}.QvGUP{height:40px;padding:0 8px 0 8px;vertical-align:top}.O4cRJf{height:40px;width:100%;padding:0;padding-right:16px}.O1ePr{height:40px;padding:0;vertical-align:top}.kgJEQe{height:36px;width:98px;vertical-align:top;margin-top:4px}.lXLRf{vertical-align:top}.MhzMZd{border:0;vertical-align:middle;font-size:14px;height:40px;padding:0;width:100%;padding-left:16px}.xB0fq{height:40px;border:none;font-size:14px;background-color:#1a73e8;color:#fff;padding:0 16px;margin:0;vertical-align:top;cursor:pointer}.xB0fq:focus{border:1px solid #1a73e8}.M7pB2{border:thin solid #dadce0;margin:0 0 3px 0;font-size:13px;font-weight:500;height:40px}.euZec{width:100%;height:40px;text-align:center;border-spacing:0}table.euZec td{padding:0;width:25%}.QIqI7{display:inline-block;padding-top:4px;font-weight:bold;color:#4285f4}.EY24We{border-bottom:2px solid #4285f4}.CsQyDc{display:inline-block;color:#70757a}.TuS8Ad{font-size:14px}.HddGcc{padding:8px;color:#70757a}.dzp8ae{font-weight:bold;color:#3c4043}.rEM8G{color:#70757a}.bookcf{table-layout:fixed;width:100%;border-spacing:0}.InWNIe{text-align:center}.uZgmoc{border:thin solid #dadce0;color:#70757a;font-size:14px;text-align:center;table-layout:fixed;width:100%}.frGj1b{display:block;padding:12px 0 12px 0;width:100%}.BnJWBc{text-align:center;padding:6px 0 13px 0;height:35px}.e3goi{vertical-align:top;padding:0;height:180px}.GpQGbf{margin:auto;border-collapse:collapse;border-spacing:0;width:100%}</style></head><body><style>.X6ZCif{color:#202124;font-size:11px;line-height:16px;display:inline-block;padding-top:2px;overflow:hidden;padding-bottom:4px;width:100%}.TwVfHd{border-radius:16px;border:thin solid #dadce0;display:inline-block;padding:8px 8px;margin-right:8px;margin-bottom:4px}.yekiAe{background-color:#dadce0}.jjVJ4e{width:100%}.ezO2md{border:thin solid #dadce0;padding:12px 16px 12px 16px;margin-bottom:10px;font-family:arial,sans-serif}.lIMUZd{font-family:arial,sans-serif}.RntSmf{border-spacing:0}.lgD2Tc{width:100%}.SpelHe{text-align:center}.SpelHe{position:relative}.deHqpb{bottom:0;left:0;margin:auto;position:absolute;right:0;top:0}.kCmkOe{position:relative}.ID6Z3b{background-image:url(https://www.gstatic.com/search_trustx/visibility_off_icon_p0-7d897bf44bafe5436baa9009e8716337.png);background-repeat:no-repeat;background-position:center;background-size:20px}.kCmkOe{width:162px;height:140px;line-height:140px;overflow:'hidden';text-align:center}.DS1iW{text-align:center;margin:auto;vertical-align:middle;max-width:162px;max-height:140px}.AlD19d{padding-top:2px;padding-bottom:8px;}.fYyStc{word-break:break-word}.ynsChf{display:block;white-space:nowrap;overflow:hidden;text-overflow:ellipsis}.Fj3V3b{color:#1967d2;font-size:14px;line-height:20px}.FrIlee{color:#202124;font-size:11px;line-height:16px}.F9iS2e{color:#70757a;font-size:11px;line-height:16px}.WMQ2Le{color:#70757a;font-size:12px;line-height:16px}.x3G5ab{color:#202124;font-size:12px;line-height:16px}.fuLhoc{color:#1967d2;font-size:16px;line-height:20px}.epoveb{font-size:24px;line-height:28px;font-weight:400;color:#202124}.dXDvrc{color:#0d652d;font-size:14px;line-height:20px;word-wrap:break-word}.dloBPe{font-weight:bold}.YVIcad{color:#70757a}.JkVVdd{color:#ea4335}.oXZRFd{color:#ea4335}.MQHtg{color:#fbbc04}.pyMRrb{color:#1e8e3e}.EtTZid{color:#1e8e3e}.M3vVJe{color:#1967d2}.qXLe6d{display:block}.NHQNef{font-style:italic}.Cb8Z7c{white-space:pre}a.ZWRArf{text-decoration:none}a .CVA68e:hover{text-decoration:underline}</style><div class=\"n692Zd\"><div class=\"BnJWBc\"><a class=\"lXLRf\" href=\"/?sa=X&amp;sca_esv=585997234&amp;biw=1920&amp;bih=937&amp;output=images&amp;ie=UTF-8&amp;tbm=isch&amp;ved=0ahUKEwjordrpqOeCAxXDTmwGHU8lBYUQPAgC\"><img alt=\"Google\" class=\"kgJEQe\" src=\"/images/branding/searchlogo/1x/googlelogo_desk_heirloom_color_150x55dp.gif\"/></a></div><div class=\"FbhRzb\"><form action=\"/search\"><input name=\"sca_esv\" type=\"hidden\" value=\"585997234\"/><input name=\"biw\" type=\"hidden\" value=\"1920\"/><input name=\"bih\" type=\"hidden\" value=\"937\"/><input name=\"ie\" type=\"hidden\" value=\"ISO-8859-1\"/><input name=\"tbm\" type=\"hidden\" value=\"isch\"/><input name=\"oq\" type=\"hidden\"/><input name=\"aqs\" type=\"hidden\"/><table class=\"cvifge\"><tr><td class=\"O4cRJf\"><input class=\"MhzMZd\" name=\"q\" type=\"text\" value=\"sudhanshu kumar ineuron\"/></td><td class=\"O1ePr\"><input class=\"xB0fq\" type=\"submit\" value=\"Search\"/></td></tr></table></form></div><div class=\"M7pB2\"><table class=\"euZec\"><tbody><tr><td><a class=\"CsQyDc\" href=\"/search?q=sudhanshu+kumar+ineuron&amp;sca_esv=585997234&amp;biw=1920&amp;bih=937&amp;ie=UTF-8&amp;source=lnms&amp;sa=X&amp;ved=0ahUKEwjordrpqOeCAxXDTmwGHU8lBYUQ_AUIBCgA\">ALL</a></td><td class=\"EY24We\"><span class=\"QIqI7\">IMAGES</span></td><td><a class=\"CsQyDc\" href=\"/search?q=sudhanshu+kumar+ineuron&amp;sca_esv=585997234&amp;biw=1920&amp;bih=937&amp;ie=UTF-8&amp;tbm=nws&amp;source=lnms&amp;sa=X&amp;ved=0ahUKEwjordrpqOeCAxXDTmwGHU8lBYUQ_AUIBigC\">NEWS</a></td><td><a class=\"CsQyDc\" href=\"/search?q=sudhanshu+kumar+ineuron&amp;sca_esv=585997234&amp;biw=1920&amp;bih=937&amp;ie=UTF-8&amp;tbm=vid&amp;source=lnms&amp;sa=X&amp;ved=0ahUKEwjordrpqOeCAxXDTmwGHU8lBYUQ_AUIBygD\">VIDEOS</a></td></tr></tbody></table></div></div><div class=\"X6ZCif\"><a class=\"TwVfHd\" href=\"/search?sca_esv=585997234&amp;biw=1920&amp;bih=937&amp;ie=UTF-8&amp;tbm=isch&amp;q=sudhanshu+kumar+ineuron&amp;chips=q:sudhanshu+kumar+ineuron,online_chips:big+data&amp;sa=X&amp;ved=0ahUKEwjordrpqOeCAxXDTmwGHU8lBYUQ4lYICygA\">big data</a><a class=\"TwVfHd\" href=\"/search?sca_esv=585997234&amp;biw=1920&amp;bih=937&amp;ie=UTF-8&amp;tbm=isch&amp;q=sudhanshu+kumar+ineuron&amp;chips=q:sudhanshu+kumar+ineuron,online_chips:full+stack+data+science&amp;sa=X&amp;ved=0ahUKEwjordrpqOeCAxXDTmwGHU8lBYUQ4lYIDCgB\">full stack data science</a><a class=\"TwVfHd\" href=\"/search?sca_esv=585997234&amp;biw=1920&amp;bih=937&amp;ie=UTF-8&amp;tbm=isch&amp;q=sudhanshu+kumar+ineuron&amp;chips=q:sudhanshu+kumar+ineuron,online_chips:machine+learning&amp;sa=X&amp;ved=0ahUKEwjordrpqOeCAxXDTmwGHU8lBYUQ4lYIDSgC\">machine learning</a><a class=\"TwVfHd\" href=\"/search?sca_esv=585997234&amp;biw=1920&amp;bih=937&amp;ie=UTF-8&amp;tbm=isch&amp;q=sudhanshu+kumar+ineuron&amp;chips=q:sudhanshu+kumar+ineuron,online_chips:physics+wallah&amp;sa=X&amp;ved=0ahUKEwjordrpqOeCAxXDTmwGHU8lBYUQ4lYIDigD\">physics wallah</a><a class=\"TwVfHd\" href=\"/search?sca_esv=585997234&amp;biw=1920&amp;bih=937&amp;ie=UTF-8&amp;tbm=isch&amp;q=sudhanshu+kumar+ineuron&amp;chips=q:sudhanshu+kumar+ineuron,online_chips:ott+platform&amp;sa=X&amp;ved=0ahUKEwjordrpqOeCAxXDTmwGHU8lBYUQ4lYIDygE\">ott platform</a><a class=\"TwVfHd\" href=\"/search?sca_esv=585997234&amp;biw=1920&amp;bih=937&amp;ie=UTF-8&amp;tbm=isch&amp;q=sudhanshu+kumar+ineuron&amp;chips=q:sudhanshu+kumar+ineuron,online_chips:krish+naik&amp;sa=X&amp;ved=0ahUKEwjordrpqOeCAxXDTmwGHU8lBYUQ4lYIECgF\">krish naik</a><a class=\"TwVfHd\" href=\"/search?sca_esv=585997234&amp;biw=1920&amp;bih=937&amp;ie=UTF-8&amp;tbm=isch&amp;q=sudhanshu+kumar+ineuron&amp;chips=q:sudhanshu+kumar+ineuron,online_chips:one+neuron&amp;sa=X&amp;ved=0ahUKEwjordrpqOeCAxXDTmwGHU8lBYUQ4lYIESgG\">one neuron</a><a class=\"TwVfHd\" href=\"/search?sca_esv=585997234&amp;biw=1920&amp;bih=937&amp;ie=UTF-8&amp;tbm=isch&amp;q=sudhanshu+kumar+ineuron&amp;chips=q:sudhanshu+kumar+ineuron,online_chips:data+scientist&amp;sa=X&amp;ved=0ahUKEwjordrpqOeCAxXDTmwGHU8lBYUQ4lYIEigH\">data scientist</a><a class=\"TwVfHd\" href=\"/search?sca_esv=585997234&amp;biw=1920&amp;bih=937&amp;ie=UTF-8&amp;tbm=isch&amp;q=sudhanshu+kumar+ineuron&amp;chips=q:sudhanshu+kumar+ineuron,online_chips:youtube&amp;sa=X&amp;ved=0ahUKEwjordrpqOeCAxXDTmwGHU8lBYUQ4lYIEygI\">youtube</a></div><div><table class=\"GpQGbf\"><tr><td align=\"center\" class=\"e3goi\"><div class=\"jjVJ4e\"> <div> <div class=\"lIMUZd\"><div><table class=\"RntSmf\"><tr><td><a href=\"/url?q=https://in.linkedin.com/in/-sudhanshu-kumar&amp;sa=U&amp;ved=2ahUKEwjordrpqOeCAxXDTmwGHU8lBYUQqoUBegQIBBAB&amp;usg=AOvVaw066eHL4YWQ9VxbokouDvV_\"><div class=\"kCmkOe\"><img alt=\"\" class=\"DS1iW\" src=\"https://encrypted-tbn0.gstatic.com/images?q=tbn:ANd9GcT-TC_64UbCp1xU0A2_yik-WFOMwVegfHOU090yCu0h28p3u1dCt3PLuFz7rw&amp;s\"/></div></a></td></tr><tr><td><a href=\"/url?q=https://in.linkedin.com/in/-sudhanshu-kumar&amp;sa=U&amp;ved=2ahUKEwjordrpqOeCAxXDTmwGHU8lBYUQr4kDegQIBBAC&amp;usg=AOvVaw3QC8ySRkIafnc_Xc5JUG6C\"><div class=\"AlD19d\"> <span class=\"qXLe6d x3G5ab\"> <span class=\"fYyStc\">sudhanshu kumar | LinkedIn</span> </span> <span class=\"qXLe6d F9iS2e\"> <span class=\"fYyStc\">in.linkedin.com</span> </span> </div></a></td></tr></table></div></div> </div> </div></td><td align=\"center\" class=\"e3goi\"><div class=\"jjVJ4e\"> <div> <div class=\"lIMUZd\"><div><table class=\"RntSmf\"><tr><td><a href=\"/url?q=https://avenuemail.in/jamshedpurs-sudhanshu-kumar-sells-edtech-co-ineuron-ai/&amp;sa=U&amp;ved=2ahUKEwjordrpqOeCAxXDTmwGHU8lBYUQqoUBegQIExAB&amp;usg=AOvVaw3bJtGMad8EugIC1eQmBCcw\"><div class=\"kCmkOe\"><img alt=\"\" class=\"DS1iW\" src=\"https://encrypted-tbn0.gstatic.com/images?q=tbn:ANd9GcSfIFc_YBpNH6KV6G742jPfgq_0Fm91ohrK0cHQS7dXDFzARKHEPKpbb3o3uw&amp;s\"/></div></a></td></tr><tr><td><a href=\"/url?q=https://avenuemail.in/jamshedpurs-sudhanshu-kumar-sells-edtech-co-ineuron-ai/&amp;sa=U&amp;ved=2ahUKEwjordrpqOeCAxXDTmwGHU8lBYUQr4kDegQIExAC&amp;usg=AOvVaw0oorJhPkbvkyEYibaT7PC-\"><div class=\"AlD19d\"> <span class=\"qXLe6d x3G5ab\"> <span class=\"fYyStc\">Jamshedpur's Sudhanshu...</span> </span> <span class=\"qXLe6d F9iS2e\"> <span class=\"fYyStc\">avenuemail.in</span> </span> </div></a></td></tr></table></div></div> </div> </div></td><td align=\"center\" class=\"e3goi\"><div class=\"jjVJ4e\"> <div> <div class=\"lIMUZd\"><div><table class=\"RntSmf\"><tr><td><a href=\"/url?q=https://www.crunchbase.com/person/sudhanshu-kumar-fcb1&amp;sa=U&amp;ved=2ahUKEwjordrpqOeCAxXDTmwGHU8lBYUQqoUBegQIEhAB&amp;usg=AOvVaw2HqOObMsKRRfcbT_TzRsHg\"><div class=\"kCmkOe\"><img alt=\"\" class=\"DS1iW\" src=\"https://encrypted-tbn0.gstatic.com/images?q=tbn:ANd9GcT2DYWgR9G3AeJBYCTXvp2tdAZyMeJ-lqkxUtAeOq3--xev6Lsy1UEdfteIlA&amp;s\"/></div></a></td></tr><tr><td><a href=\"/url?q=https://www.crunchbase.com/person/sudhanshu-kumar-fcb1&amp;sa=U&amp;ved=2ahUKEwjordrpqOeCAxXDTmwGHU8lBYUQr4kDegQIEhAC&amp;usg=AOvVaw0jdelcm22EgN_b8YqRpSa6\"><div class=\"AlD19d\"> <span class=\"qXLe6d x3G5ab\"> <span class=\"fYyStc\">Sudhanshu Kumar - Founder &amp;...</span> </span> <span class=\"qXLe6d F9iS2e\"> <span class=\"fYyStc\">www.crunchbase.com</span> </span> </div></a></td></tr></table></div></div> </div> </div></td><td align=\"center\" class=\"e3goi\"><div class=\"jjVJ4e\"> <div> <div class=\"lIMUZd\"><div><table class=\"RntSmf\"><tr><td><a href=\"/url?q=https://www.outlookindia.com/outlook-spotlight/sudhanshu-kumar-and-krish-naik-of-inneuron-new-heroes-of-indian-edtech-industry-news-188026&amp;sa=U&amp;ved=2ahUKEwjordrpqOeCAxXDTmwGHU8lBYUQqoUBegQIDxAB&amp;usg=AOvVaw0wcUnkEVq9IEo-sb3Uee6j\"><div class=\"kCmkOe\"><img alt=\"\" class=\"DS1iW\" src=\"https://encrypted-tbn0.gstatic.com/images?q=tbn:ANd9GcTn-9HcMGMeSNA4tYNmxeuNiqbPlJm4uqRH7ec2CI_x5VNBIWbDddmvN7Z6SQ&amp;s\"/></div></a></td></tr><tr><td><a href=\"/url?q=https://www.outlookindia.com/outlook-spotlight/sudhanshu-kumar-and-krish-naik-of-inneuron-new-heroes-of-indian-edtech-industry-news-188026&amp;sa=U&amp;ved=2ahUKEwjordrpqOeCAxXDTmwGHU8lBYUQr4kDegQIDxAC&amp;usg=AOvVaw2aAr5EzVvbmpIX6Kj5ofuG\"><div class=\"AlD19d\"> <span class=\"qXLe6d x3G5ab\"> <span class=\"fYyStc\">Meet Sudhanshu Kumar And...</span> </span> <span class=\"qXLe6d F9iS2e\"> <span class=\"fYyStc\">www.outlookindia.com</span> </span> </div></a></td></tr></table></div></div> </div> </div></td></tr><tr><td align=\"center\" class=\"e3goi\"><div class=\"jjVJ4e\"> <div> <div class=\"lIMUZd\"><div><table class=\"RntSmf\"><tr><td><a href=\"/url?q=https://m.youtube.com/watch%3Fv%3DEH4Q8zTqT4Q&amp;sa=U&amp;ved=2ahUKEwjordrpqOeCAxXDTmwGHU8lBYUQqoUBegQIDBAB&amp;usg=AOvVaw01ozn4B3Qq1Q0yd4ZC4usy\"><div class=\"kCmkOe\"><img alt=\"\" class=\"DS1iW\" src=\"https://encrypted-tbn0.gstatic.com/images?q=tbn:ANd9GcS1Z3J_u11gTkc8ePdVCESLKiCo-DYtM_4CttJyQ1mFFJeEfviGln04zkvnfNw&amp;s\"/></div></a></td></tr><tr><td><a href=\"/url?q=https://m.youtube.com/watch%3Fv%3DEH4Q8zTqT4Q&amp;sa=U&amp;ved=2ahUKEwjordrpqOeCAxXDTmwGHU8lBYUQr4kDegQIDBAC&amp;usg=AOvVaw14DU6fo15EQo4Wbo_Ano5l\"><div class=\"AlD19d\"> <span class=\"qXLe6d x3G5ab\"> <span class=\"fYyStc\">Tech Talks with Sudhanshu...</span> </span> <span class=\"qXLe6d F9iS2e\"> <span class=\"fYyStc\">m.youtube.com</span> </span> </div></a></td></tr></table></div></div> </div> </div></td><td align=\"center\" class=\"e3goi\"><div class=\"jjVJ4e\"> <div> <div class=\"lIMUZd\"><div><table class=\"RntSmf\"><tr><td><a href=\"/url?q=https://analyticsindiamag.com/meet-sudhanshu-kumar-a-techie-who-was-inspired-by-detective-stories-to-become-a-data-scientist/&amp;sa=U&amp;ved=2ahUKEwjordrpqOeCAxXDTmwGHU8lBYUQqoUBegQIEBAB&amp;usg=AOvVaw1IWdQZStyl7Dnu5V1IRmZF\"><div class=\"kCmkOe\"><img alt=\"\" class=\"DS1iW\" src=\"https://encrypted-tbn0.gstatic.com/images?q=tbn:ANd9GcRWU2tmJuSWI7rMmnAjri24y9hlxHQ817QQl1CzRjPyxVFJnn7T-_QryfrbfLM&amp;s\"/></div></a></td></tr><tr><td><a href=\"/url?q=https://analyticsindiamag.com/meet-sudhanshu-kumar-a-techie-who-was-inspired-by-detective-stories-to-become-a-data-scientist/&amp;sa=U&amp;ved=2ahUKEwjordrpqOeCAxXDTmwGHU8lBYUQr4kDegQIEBAC&amp;usg=AOvVaw38v_GnoMPKFOrIdOnt0Jmh\"><div class=\"AlD19d\"> <span class=\"qXLe6d x3G5ab\"> <span class=\"fYyStc\">Meet Sudhanshu Kumar, A...</span> </span> <span class=\"qXLe6d F9iS2e\"> <span class=\"fYyStc\">analyticsindiamag.com</span> </span> </div></a></td></tr></table></div></div> </div> </div></td><td align=\"center\" class=\"e3goi\"><div class=\"jjVJ4e\"> <div> <div class=\"lIMUZd\"><div><table class=\"RntSmf\"><tr><td><a href=\"/url?q=https://www.crunchbase.com/person/sudhanshu-kumar-fcb1&amp;sa=U&amp;ved=2ahUKEwjordrpqOeCAxXDTmwGHU8lBYUQqoUBegQIERAB&amp;usg=AOvVaw2U1Luiq9cwUArx18Am_eTF\"><div class=\"kCmkOe\"><img alt=\"\" class=\"DS1iW\" src=\"https://encrypted-tbn0.gstatic.com/images?q=tbn:ANd9GcQBcVdDEpLhSWocgXHSGrYIk0JSCKXzu-WNuVQZweOY-RElB1MfVJyN4GzEiA&amp;s\"/></div></a></td></tr><tr><td><a href=\"/url?q=https://www.crunchbase.com/person/sudhanshu-kumar-fcb1&amp;sa=U&amp;ved=2ahUKEwjordrpqOeCAxXDTmwGHU8lBYUQr4kDegQIERAC&amp;usg=AOvVaw0vH57L1DrICGI0Ddzc1wUo\"><div class=\"AlD19d\"> <span class=\"qXLe6d x3G5ab\"> <span class=\"fYyStc\">Sudhanshu Kumar - Founder &amp;...</span> </span> <span class=\"qXLe6d F9iS2e\"> <span class=\"fYyStc\">www.crunchbase.com</span> </span> </div></a></td></tr></table></div></div> </div> </div></td><td align=\"center\" class=\"e3goi\"><div class=\"jjVJ4e\"> <div> <div class=\"lIMUZd\"><div><table class=\"RntSmf\"><tr><td><a href=\"/url?q=https://ineuron.ai/course/Machine-Learning-Projects%3Fsource%3Done_neuron_page&amp;sa=U&amp;ved=2ahUKEwjordrpqOeCAxXDTmwGHU8lBYUQqoUBegQIDRAB&amp;usg=AOvVaw3jk3DFFHSycCiTpCltq77h\"><div class=\"kCmkOe\"><img alt=\"\" class=\"DS1iW\" src=\"https://encrypted-tbn0.gstatic.com/images?q=tbn:ANd9GcSWApaT22J13f3cYSslNJhx6Vy_raDm726UwQzkwkHRWXXqSgu_Do2gZlNJX7c&amp;s\"/></div></a></td></tr><tr><td><a href=\"/url?q=https://ineuron.ai/course/Machine-Learning-Projects%3Fsource%3Done_neuron_page&amp;sa=U&amp;ved=2ahUKEwjordrpqOeCAxXDTmwGHU8lBYUQr4kDegQIDRAC&amp;usg=AOvVaw0CNaInQ0iSpwb2l8LnBrKc\"><div class=\"AlD19d\"> <span class=\"qXLe6d x3G5ab\"> <span class=\"fYyStc\">Machine Learning Projects |...</span> </span> <span class=\"qXLe6d F9iS2e\"> <span class=\"fYyStc\">ineuron.ai</span> </span> </div></a></td></tr></table></div></div> </div> </div></td></tr><tr><td align=\"center\" class=\"e3goi\"><div class=\"jjVJ4e\"> <div> <div class=\"lIMUZd\"><div><table class=\"RntSmf\"><tr><td><a href=\"/url?q=https://www.youtube.com/watch%3Fv%3DJZ4UQIcDNTg&amp;sa=U&amp;ved=2ahUKEwjordrpqOeCAxXDTmwGHU8lBYUQqoUBegQIChAB&amp;usg=AOvVaw1_BNkB33pNHx6-GLCPmR34\"><div class=\"kCmkOe\"><img alt=\"\" class=\"DS1iW\" src=\"https://encrypted-tbn0.gstatic.com/images?q=tbn:ANd9GcR-17GOzV-WKbaM3ZXIAGCnsL3ziGCwExZ5JkAEGlsqhzI1HrOMx6xI5ItIR-U&amp;s\"/></div></a></td></tr><tr><td><a href=\"/url?q=https://www.youtube.com/watch%3Fv%3DJZ4UQIcDNTg&amp;sa=U&amp;ved=2ahUKEwjordrpqOeCAxXDTmwGHU8lBYUQr4kDegQIChAC&amp;usg=AOvVaw1DNJGGJX1OP5PuLXHeckBm\"><div class=\"AlD19d\"> <span class=\"qXLe6d x3G5ab\"> <span class=\"fYyStc\">Data Science Discussion...</span> </span> <span class=\"qXLe6d F9iS2e\"> <span class=\"fYyStc\">www.youtube.com</span> </span> </div></a></td></tr></table></div></div> </div> </div></td><td align=\"center\" class=\"e3goi\"><div class=\"jjVJ4e\"> <div> <div class=\"lIMUZd\"><div><table class=\"RntSmf\"><tr><td><a href=\"/url?q=https://rocketreach.co/sudhanshu-kumar-email_121209282&amp;sa=U&amp;ved=2ahUKEwjordrpqOeCAxXDTmwGHU8lBYUQqoUBegQIDhAB&amp;usg=AOvVaw3OXD_nbn-KH_HgAvZr1rvJ\"><div class=\"kCmkOe\"><img alt=\"\" class=\"DS1iW\" src=\"https://encrypted-tbn0.gstatic.com/images?q=tbn:ANd9GcTjr25DteGDWgb9CaWMRosB_5LazNvKuz-0YNE1Und7VZGGQxVkA-UkS7VfJqU&amp;s\"/></div></a></td></tr><tr><td><a href=\"/url?q=https://rocketreach.co/sudhanshu-kumar-email_121209282&amp;sa=U&amp;ved=2ahUKEwjordrpqOeCAxXDTmwGHU8lBYUQr4kDegQIDhAC&amp;usg=AOvVaw2fEsMc5yo7wp-iqEFe_3Pn\"><div class=\"AlD19d\"> <span class=\"qXLe6d x3G5ab\"> <span class=\"fYyStc\">Sudhanshu Kumar email...</span> </span> <span class=\"qXLe6d F9iS2e\"> <span class=\"fYyStc\">rocketreach.co</span> </span> </div></a></td></tr></table></div></div> </div> </div></td><td align=\"center\" class=\"e3goi\"><div class=\"jjVJ4e\"> <div> <div class=\"lIMUZd\"><div><table class=\"RntSmf\"><tr><td><a href=\"/url?q=https://www.instagram.com/sudhanshu902203/&amp;sa=U&amp;ved=2ahUKEwjordrpqOeCAxXDTmwGHU8lBYUQqoUBegQICRAB&amp;usg=AOvVaw15ytk3JVORvoP4odFwonml\"><div class=\"kCmkOe\"><img alt=\"\" class=\"DS1iW\" src=\"https://encrypted-tbn0.gstatic.com/images?q=tbn:ANd9GcSyECz5RbBbmSX7nIn8KTKS7hQThH9adFIrY4amq9_BV2rfS9Ixog52MPMT3DQ&amp;s\"/></div></a></td></tr><tr><td><a href=\"/url?q=https://www.instagram.com/sudhanshu902203/&amp;sa=U&amp;ved=2ahUKEwjordrpqOeCAxXDTmwGHU8lBYUQr4kDegQICRAC&amp;usg=AOvVaw32IBZzBNAfNJZ-IE4pGBX4\"><div class=\"AlD19d\"> <span class=\"qXLe6d x3G5ab\"> <span class=\"fYyStc\">Sudhanshu Kumar...</span> </span> <span class=\"qXLe6d F9iS2e\"> <span class=\"fYyStc\">www.instagram.com</span> </span> </div></a></td></tr></table></div></div> </div> </div></td><td align=\"center\" class=\"e3goi\"><div class=\"jjVJ4e\"> <div> <div class=\"lIMUZd\"><div><table class=\"RntSmf\"><tr><td><a href=\"/url?q=https://in.linkedin.com/in/-sudhanshu-kumar&amp;sa=U&amp;ved=2ahUKEwjordrpqOeCAxXDTmwGHU8lBYUQqoUBegQICxAB&amp;usg=AOvVaw1T7EL25n8srTZhCbfC9zdl\"><div class=\"kCmkOe\"><img alt=\"\" class=\"DS1iW\" src=\"https://encrypted-tbn0.gstatic.com/images?q=tbn:ANd9GcSPKGB4pckvRiByEzl-6B-kto2mlL_mw1n83xBhZzhNda2YIPYv5VyzMGKhIA&amp;s\"/></div></a></td></tr><tr><td><a href=\"/url?q=https://in.linkedin.com/in/-sudhanshu-kumar&amp;sa=U&amp;ved=2ahUKEwjordrpqOeCAxXDTmwGHU8lBYUQr4kDegQICxAC&amp;usg=AOvVaw3m-OOsRKIFXwmUyX6hDg0l\"><div class=\"AlD19d\"> <span class=\"qXLe6d x3G5ab\"> <span class=\"fYyStc\">sudhanshu kumar | LinkedIn</span> </span> <span class=\"qXLe6d F9iS2e\"> <span class=\"fYyStc\">in.linkedin.com</span> </span> </div></a></td></tr></table></div></div> </div> </div></td></tr><tr><td align=\"center\" class=\"e3goi\"><div class=\"jjVJ4e\"> <div> <div class=\"lIMUZd\"><div><table class=\"RntSmf\"><tr><td><a href=\"/url?q=https://ineuron.ai/course/SQL-Foundations%3Fsource%3Dcourse_listing_page&amp;sa=U&amp;ved=2ahUKEwjordrpqOeCAxXDTmwGHU8lBYUQqoUBegQIABAB&amp;usg=AOvVaw31T5yG3P8uPm9vuwr5Jjj0\"><div class=\"kCmkOe\"><img alt=\"\" class=\"DS1iW\" src=\"https://encrypted-tbn0.gstatic.com/images?q=tbn:ANd9GcRv28JTBdzaCjH3LCUu7RiRM9RmpF20cEd9j8ZfvGn4Uc54-3ZdOOXESgAp8XU&amp;s\"/></div></a></td></tr><tr><td><a href=\"/url?q=https://ineuron.ai/course/SQL-Foundations%3Fsource%3Dcourse_listing_page&amp;sa=U&amp;ved=2ahUKEwjordrpqOeCAxXDTmwGHU8lBYUQr4kDegQIABAC&amp;usg=AOvVaw2P6lkfGYFxnobIfQeWA52W\"><div class=\"AlD19d\"> <span class=\"qXLe6d x3G5ab\"> <span class=\"fYyStc\">SQL Foundations | PW Skills...</span> </span> <span class=\"qXLe6d F9iS2e\"> <span class=\"fYyStc\">ineuron.ai</span> </span> </div></a></td></tr></table></div></div> </div> </div></td><td align=\"center\" class=\"e3goi\"><div class=\"jjVJ4e\"> <div> <div class=\"lIMUZd\"><div><table class=\"RntSmf\"><tr><td><a href=\"/url?q=https://www.youtube.com/watch%3Fv%3DEyheg3ZkiW0&amp;sa=U&amp;ved=2ahUKEwjordrpqOeCAxXDTmwGHU8lBYUQqoUBegQIAxAB&amp;usg=AOvVaw08xZ3T7l-1T6PBCTJV7JQs\"><div class=\"kCmkOe\"><img alt=\"\" class=\"DS1iW\" src=\"https://encrypted-tbn0.gstatic.com/images?q=tbn:ANd9GcSIrIxozjNsIXB3BX2xlB0Tf3e3hqwgJD7hKOOG1b0MsL7h2eetNuXOYuFOgw&amp;s\"/></div></a></td></tr><tr><td><a href=\"/url?q=https://www.youtube.com/watch%3Fv%3DEyheg3ZkiW0&amp;sa=U&amp;ved=2ahUKEwjordrpqOeCAxXDTmwGHU8lBYUQr4kDegQIAxAC&amp;usg=AOvVaw1jN_twNiaaj8kYb5Yb3D24\"><div class=\"AlD19d\"> <span class=\"qXLe6d x3G5ab\"> <span class=\"fYyStc\">5 Minutes Engineering...</span> </span> <span class=\"qXLe6d F9iS2e\"> <span class=\"fYyStc\">www.youtube.com</span> </span> </div></a></td></tr></table></div></div> </div> </div></td><td align=\"center\" class=\"e3goi\"><div class=\"jjVJ4e\"> <div> <div class=\"lIMUZd\"><div><table class=\"RntSmf\"><tr><td><a href=\"/url?q=https://www.prnewswire.com/in/news-releases/ineuron-launches-one-neuron--837378159.html&amp;sa=U&amp;ved=2ahUKEwjordrpqOeCAxXDTmwGHU8lBYUQqoUBegQIBxAB&amp;usg=AOvVaw18UcS1ZLJJ8TZ7aBO6q9iD\"><div class=\"kCmkOe\"><img alt=\"\" class=\"DS1iW\" src=\"https://encrypted-tbn0.gstatic.com/images?q=tbn:ANd9GcRXu8eyqE5ico3eIiGEnUmgBV_YyfwK0AhaXQH2PCHZbIU6gpsksk-A46vNJA&amp;s\"/></div></a></td></tr><tr><td><a href=\"/url?q=https://www.prnewswire.com/in/news-releases/ineuron-launches-one-neuron--837378159.html&amp;sa=U&amp;ved=2ahUKEwjordrpqOeCAxXDTmwGHU8lBYUQr4kDegQIBxAC&amp;usg=AOvVaw0biKDmrHn8lN34scyOf6bb\"><div class=\"AlD19d\"> <span class=\"qXLe6d x3G5ab\"> <span class=\"fYyStc\">iNeuron launches 'One...</span> </span> <span class=\"qXLe6d F9iS2e\"> <span class=\"fYyStc\">www.prnewswire.com</span> </span> </div></a></td></tr></table></div></div> </div> </div></td><td align=\"center\" class=\"e3goi\"><div class=\"jjVJ4e\"> <div> <div class=\"lIMUZd\"><div><table class=\"RntSmf\"><tr><td><a href=\"/url?q=https://ineuron.ai/category/BIG-DATA-MASTERS&amp;sa=U&amp;ved=2ahUKEwjordrpqOeCAxXDTmwGHU8lBYUQqoUBegQIAhAB&amp;usg=AOvVaw1tmhlwfm5SyIPTYgsIc8TF\"><div class=\"kCmkOe\"><img alt=\"\" class=\"DS1iW\" src=\"https://encrypted-tbn0.gstatic.com/images?q=tbn:ANd9GcRtEdTkzyZCrhuVNWy-6HC2uK1wN3VJI0sfZsa2CF0Wugs1lTcsZcKyvU37WR4&amp;s\"/></div></a></td></tr><tr><td><a href=\"/url?q=https://ineuron.ai/category/BIG-DATA-MASTERS&amp;sa=U&amp;ved=2ahUKEwjordrpqOeCAxXDTmwGHU8lBYUQr4kDegQIAhAC&amp;usg=AOvVaw2KYGceEwkGzRwZQHLrD6iy\"><div class=\"AlD19d\"> <span class=\"qXLe6d x3G5ab\"> <span class=\"fYyStc\">Big Data Master course and...</span> </span> <span class=\"qXLe6d F9iS2e\"> <span class=\"fYyStc\">ineuron.ai</span> </span> </div></a></td></tr></table></div></div> </div> </div></td></tr><tr><td align=\"center\" class=\"e3goi\"><div class=\"jjVJ4e\"> <div> <div class=\"lIMUZd\"><div><table class=\"RntSmf\"><tr><td><a href=\"/url?q=https://rocketreach.co/sudhanshu-kumar-email_121209282&amp;sa=U&amp;ved=2ahUKEwjordrpqOeCAxXDTmwGHU8lBYUQqoUBegQIARAB&amp;usg=AOvVaw3d9epqhw6a7B_MM1kELFU0\"><div class=\"kCmkOe\"><img alt=\"\" class=\"DS1iW\" src=\"https://encrypted-tbn0.gstatic.com/images?q=tbn:ANd9GcQQkJ0T6-mycfcUdMtfqrQ8hXaoUHqeyUdA0bzbaRtMNrD1XqbNS6_kiuM1cMQ&amp;s\"/></div></a></td></tr><tr><td><a href=\"/url?q=https://rocketreach.co/sudhanshu-kumar-email_121209282&amp;sa=U&amp;ved=2ahUKEwjordrpqOeCAxXDTmwGHU8lBYUQr4kDegQIARAC&amp;usg=AOvVaw3kz-jhWX_IRVux0C4k5K2B\"><div class=\"AlD19d\"> <span class=\"qXLe6d x3G5ab\"> <span class=\"fYyStc\">Sudhanshu Kumar email...</span> </span> <span class=\"qXLe6d F9iS2e\"> <span class=\"fYyStc\">rocketreach.co</span> </span> </div></a></td></tr></table></div></div> </div> </div></td><td align=\"center\" class=\"e3goi\"><div class=\"jjVJ4e\"> <div> <div class=\"lIMUZd\"><div><table class=\"RntSmf\"><tr><td><a href=\"/url?q=https://analyticsindiamag.com/ed-tech-startup-ineuron-launches-first-of-its-kind-ott-platform-for-education-oneneuron-unlocking-on-demand-services/&amp;sa=U&amp;ved=2ahUKEwjordrpqOeCAxXDTmwGHU8lBYUQqoUBegQICBAB&amp;usg=AOvVaw0JA7UdAQOz_NOoTd5XXI2s\"><div class=\"kCmkOe\"><img alt=\"\" class=\"DS1iW\" src=\"https://encrypted-tbn0.gstatic.com/images?q=tbn:ANd9GcStyx_HyZtaT_OuTT5B57mv_ZQDpXR2ucPe_-QvSwjqHBUDS05McCeE2T8Y_UY&amp;s\"/></div></a></td></tr><tr><td><a href=\"/url?q=https://analyticsindiamag.com/ed-tech-startup-ineuron-launches-first-of-its-kind-ott-platform-for-education-oneneuron-unlocking-on-demand-services/&amp;sa=U&amp;ved=2ahUKEwjordrpqOeCAxXDTmwGHU8lBYUQr4kDegQICBAC&amp;usg=AOvVaw12DbDV5-dkN10TGtTnkOjq\"><div class=\"AlD19d\"> <span class=\"qXLe6d x3G5ab\"> <span class=\"fYyStc\">Ed-Tech Startup iNeuron...</span> </span> <span class=\"qXLe6d F9iS2e\"> <span class=\"fYyStc\">analyticsindiamag.com</span> </span> </div></a></td></tr></table></div></div> </div> </div></td><td align=\"center\" class=\"e3goi\"><div class=\"jjVJ4e\"> <div> <div class=\"lIMUZd\"><div><table class=\"RntSmf\"><tr><td><a href=\"/url?q=https://www.prnewswire.com/in/news-releases/ineuron-acquires-youtube-influencer-hitesh-chaudhary-s-learn-code-online-829943188.html&amp;sa=U&amp;ved=2ahUKEwjordrpqOeCAxXDTmwGHU8lBYUQqoUBegQIBhAB&amp;usg=AOvVaw0xHp9lv3UoImSFf1xT98n0\"><div class=\"kCmkOe\"><img alt=\"\" class=\"DS1iW\" src=\"https://encrypted-tbn0.gstatic.com/images?q=tbn:ANd9GcRmqUP1fY8YMLqeihJs9rHfXRiKGhwE4Rjp3pdicH308HADv6iL0bD3kfRxZQ&amp;s\"/></div></a></td></tr><tr><td><a href=\"/url?q=https://www.prnewswire.com/in/news-releases/ineuron-acquires-youtube-influencer-hitesh-chaudhary-s-learn-code-online-829943188.html&amp;sa=U&amp;ved=2ahUKEwjordrpqOeCAxXDTmwGHU8lBYUQr4kDegQIBhAC&amp;usg=AOvVaw2xveRYiQsbSV_M-FKzuquI\"><div class=\"AlD19d\"> <span class=\"qXLe6d x3G5ab\"> <span class=\"fYyStc\">iNeuron acquires YouTube...</span> </span> <span class=\"qXLe6d F9iS2e\"> <span class=\"fYyStc\">www.prnewswire.com</span> </span> </div></a></td></tr></table></div></div> </div> </div></td><td align=\"center\" class=\"e3goi\"><div class=\"jjVJ4e\"> <div> <div class=\"lIMUZd\"><div><table class=\"RntSmf\"><tr><td><a href=\"/url?q=https://rocketreach.co/sudhanshu-kumar-email_121209282&amp;sa=U&amp;ved=2ahUKEwjordrpqOeCAxXDTmwGHU8lBYUQqoUBegQIBRAB&amp;usg=AOvVaw2agSYrZOoY0_AtDaNm5Nyl\"><div class=\"kCmkOe\"><img alt=\"\" class=\"DS1iW\" src=\"https://encrypted-tbn0.gstatic.com/images?q=tbn:ANd9GcQcmv0lKKL3jSWQN6gPZ9ZvPEsiz9L11Zm37xlpjnXNI--siL_AIkFXEPqFnw&amp;s\"/></div></a></td></tr><tr><td><a href=\"/url?q=https://rocketreach.co/sudhanshu-kumar-email_121209282&amp;sa=U&amp;ved=2ahUKEwjordrpqOeCAxXDTmwGHU8lBYUQr4kDegQIBRAC&amp;usg=AOvVaw1nre4WnGP-jvp9vwiu-XHx\"><div class=\"AlD19d\"> <span class=\"qXLe6d x3G5ab\"> <span class=\"fYyStc\">Sudhanshu Kumar email...</span> </span> <span class=\"qXLe6d F9iS2e\"> <span class=\"fYyStc\">rocketreach.co</span> </span> </div></a></td></tr></table></div></div> </div> </div></td></tr></table></div><table class=\"uZgmoc\"><tbody><td><a class=\"frGj1b\" href=\"/search?q=sudhanshu+kumar+ineuron&amp;sca_esv=585997234&amp;biw=1920&amp;bih=937&amp;ie=UTF-8&amp;tbm=isch&amp;ei=vTBmZajbGsOdseMPz8qUqAg&amp;start=20&amp;sa=N\">Next &gt;</a></td></tbody></table><br/><div class=\"TuS8Ad\" data-ved=\"0ahUKEwjordrpqOeCAxXDTmwGHU8lBYUQpyoIUQ\"><style>.VYM29{font-weight:bold}</style><div align=\"center\" class=\"HddGcc\"><span class=\"VYM29\">Mumbai, Maharashtra</span><span> - </span><span>From your IP address</span><span> - </span><a href=\"/url?q=https://support.google.com/websearch%3Fp%3Dws_settings_location%26hl%3Den-IN&amp;opi=89978449&amp;sa=U&amp;ved=0ahUKEwjordrpqOeCAxXDTmwGHU8lBYUQty4IUg&amp;usg=AOvVaw2C-rF83w78mqc1fzp1sXFt\">Learn more</a></div><div align=\"center\"><a class=\"rEM8G\" href=\"/url?q=https://accounts.google.com/ServiceLogin%3Fcontinue%3Dhttps://www.google.com/search%253Fq%253Dsudhanshu%252Bkumar%252Bineuron%2526sxsrf%253DAJOqlzUuff1RXi2mm8I_OqOwT9VjfIDL7w:1676996143273%2526source%253Dlnms%2526tbm%253Disch%2526sa%253DX%2526ved%253D2ahUKEwiq-qK7gaf9AhXUgVYBHYReAfYQ_AUoA3oECAEQBQ%2526biw%253D1920%2526bih%253D937%2526dpr%253D1%26hl%3Den&amp;opi=89978449&amp;sa=U&amp;ved=0ahUKEwjordrpqOeCAxXDTmwGHU8lBYUQxs8CCFM&amp;usg=AOvVaw103sYYUVSKnC54Sm4r5rt9\">Sign in</a></div><div><table class=\"bookcf\"><tbody class=\"InWNIe\"><tr><td><a class=\"rEM8G\" href=\"https://www.google.com/preferences?hl=en&amp;sa=X&amp;ved=0ahUKEwjordrpqOeCAxXDTmwGHU8lBYUQv5YECFQ\">Settings</a></td><td><a class=\"rEM8G\" href=\"https://www.google.com/intl/en_in/policies/privacy/\">Privacy</a></td><td><a class=\"rEM8G\" href=\"https://www.google.com/intl/en_in/policies/terms/\">Terms</a></td></tr></tbody></table></div></div><div> </div></body></html>"
      ]
     },
     "execution_count": 12,
     "metadata": {},
     "output_type": "execute_result"
    }
   ],
   "source": [
    "soup"
   ]
  },
  {
   "cell_type": "code",
   "execution_count": 15,
   "id": "08fd118c-38b5-45c2-b8b8-a104ff2a3392",
   "metadata": {},
   "outputs": [],
   "source": [
    "image_tags = soup.find_all(\"img\")"
   ]
  },
  {
   "cell_type": "code",
   "execution_count": 16,
   "id": "2c68b8d1-74d7-4c4d-b086-d94256630da6",
   "metadata": {},
   "outputs": [
    {
     "data": {
      "text/plain": [
       "21"
      ]
     },
     "execution_count": 16,
     "metadata": {},
     "output_type": "execute_result"
    }
   ],
   "source": [
    "len(image_tags)"
   ]
  },
  {
   "cell_type": "code",
   "execution_count": 18,
   "id": "7ccbb34c-33e8-4c85-9574-20e2e98e187b",
   "metadata": {},
   "outputs": [
    {
     "data": {
      "text/plain": [
       "[<img alt=\"Google\" class=\"kgJEQe\" src=\"/images/branding/searchlogo/1x/googlelogo_desk_heirloom_color_150x55dp.gif\"/>,\n",
       " <img alt=\"\" class=\"DS1iW\" src=\"https://encrypted-tbn0.gstatic.com/images?q=tbn:ANd9GcT-TC_64UbCp1xU0A2_yik-WFOMwVegfHOU090yCu0h28p3u1dCt3PLuFz7rw&amp;s\"/>,\n",
       " <img alt=\"\" class=\"DS1iW\" src=\"https://encrypted-tbn0.gstatic.com/images?q=tbn:ANd9GcSfIFc_YBpNH6KV6G742jPfgq_0Fm91ohrK0cHQS7dXDFzARKHEPKpbb3o3uw&amp;s\"/>,\n",
       " <img alt=\"\" class=\"DS1iW\" src=\"https://encrypted-tbn0.gstatic.com/images?q=tbn:ANd9GcT2DYWgR9G3AeJBYCTXvp2tdAZyMeJ-lqkxUtAeOq3--xev6Lsy1UEdfteIlA&amp;s\"/>,\n",
       " <img alt=\"\" class=\"DS1iW\" src=\"https://encrypted-tbn0.gstatic.com/images?q=tbn:ANd9GcTn-9HcMGMeSNA4tYNmxeuNiqbPlJm4uqRH7ec2CI_x5VNBIWbDddmvN7Z6SQ&amp;s\"/>,\n",
       " <img alt=\"\" class=\"DS1iW\" src=\"https://encrypted-tbn0.gstatic.com/images?q=tbn:ANd9GcS1Z3J_u11gTkc8ePdVCESLKiCo-DYtM_4CttJyQ1mFFJeEfviGln04zkvnfNw&amp;s\"/>,\n",
       " <img alt=\"\" class=\"DS1iW\" src=\"https://encrypted-tbn0.gstatic.com/images?q=tbn:ANd9GcRWU2tmJuSWI7rMmnAjri24y9hlxHQ817QQl1CzRjPyxVFJnn7T-_QryfrbfLM&amp;s\"/>,\n",
       " <img alt=\"\" class=\"DS1iW\" src=\"https://encrypted-tbn0.gstatic.com/images?q=tbn:ANd9GcQBcVdDEpLhSWocgXHSGrYIk0JSCKXzu-WNuVQZweOY-RElB1MfVJyN4GzEiA&amp;s\"/>,\n",
       " <img alt=\"\" class=\"DS1iW\" src=\"https://encrypted-tbn0.gstatic.com/images?q=tbn:ANd9GcSWApaT22J13f3cYSslNJhx6Vy_raDm726UwQzkwkHRWXXqSgu_Do2gZlNJX7c&amp;s\"/>,\n",
       " <img alt=\"\" class=\"DS1iW\" src=\"https://encrypted-tbn0.gstatic.com/images?q=tbn:ANd9GcR-17GOzV-WKbaM3ZXIAGCnsL3ziGCwExZ5JkAEGlsqhzI1HrOMx6xI5ItIR-U&amp;s\"/>,\n",
       " <img alt=\"\" class=\"DS1iW\" src=\"https://encrypted-tbn0.gstatic.com/images?q=tbn:ANd9GcTjr25DteGDWgb9CaWMRosB_5LazNvKuz-0YNE1Und7VZGGQxVkA-UkS7VfJqU&amp;s\"/>,\n",
       " <img alt=\"\" class=\"DS1iW\" src=\"https://encrypted-tbn0.gstatic.com/images?q=tbn:ANd9GcSyECz5RbBbmSX7nIn8KTKS7hQThH9adFIrY4amq9_BV2rfS9Ixog52MPMT3DQ&amp;s\"/>,\n",
       " <img alt=\"\" class=\"DS1iW\" src=\"https://encrypted-tbn0.gstatic.com/images?q=tbn:ANd9GcSPKGB4pckvRiByEzl-6B-kto2mlL_mw1n83xBhZzhNda2YIPYv5VyzMGKhIA&amp;s\"/>,\n",
       " <img alt=\"\" class=\"DS1iW\" src=\"https://encrypted-tbn0.gstatic.com/images?q=tbn:ANd9GcRv28JTBdzaCjH3LCUu7RiRM9RmpF20cEd9j8ZfvGn4Uc54-3ZdOOXESgAp8XU&amp;s\"/>,\n",
       " <img alt=\"\" class=\"DS1iW\" src=\"https://encrypted-tbn0.gstatic.com/images?q=tbn:ANd9GcSIrIxozjNsIXB3BX2xlB0Tf3e3hqwgJD7hKOOG1b0MsL7h2eetNuXOYuFOgw&amp;s\"/>,\n",
       " <img alt=\"\" class=\"DS1iW\" src=\"https://encrypted-tbn0.gstatic.com/images?q=tbn:ANd9GcRXu8eyqE5ico3eIiGEnUmgBV_YyfwK0AhaXQH2PCHZbIU6gpsksk-A46vNJA&amp;s\"/>,\n",
       " <img alt=\"\" class=\"DS1iW\" src=\"https://encrypted-tbn0.gstatic.com/images?q=tbn:ANd9GcRtEdTkzyZCrhuVNWy-6HC2uK1wN3VJI0sfZsa2CF0Wugs1lTcsZcKyvU37WR4&amp;s\"/>,\n",
       " <img alt=\"\" class=\"DS1iW\" src=\"https://encrypted-tbn0.gstatic.com/images?q=tbn:ANd9GcQQkJ0T6-mycfcUdMtfqrQ8hXaoUHqeyUdA0bzbaRtMNrD1XqbNS6_kiuM1cMQ&amp;s\"/>,\n",
       " <img alt=\"\" class=\"DS1iW\" src=\"https://encrypted-tbn0.gstatic.com/images?q=tbn:ANd9GcStyx_HyZtaT_OuTT5B57mv_ZQDpXR2ucPe_-QvSwjqHBUDS05McCeE2T8Y_UY&amp;s\"/>,\n",
       " <img alt=\"\" class=\"DS1iW\" src=\"https://encrypted-tbn0.gstatic.com/images?q=tbn:ANd9GcRmqUP1fY8YMLqeihJs9rHfXRiKGhwE4Rjp3pdicH308HADv6iL0bD3kfRxZQ&amp;s\"/>,\n",
       " <img alt=\"\" class=\"DS1iW\" src=\"https://encrypted-tbn0.gstatic.com/images?q=tbn:ANd9GcQcmv0lKKL3jSWQN6gPZ9ZvPEsiz9L11Zm37xlpjnXNI--siL_AIkFXEPqFnw&amp;s\"/>]"
      ]
     },
     "execution_count": 18,
     "metadata": {},
     "output_type": "execute_result"
    }
   ],
   "source": [
    "image_tags\n"
   ]
  },
  {
   "cell_type": "code",
   "execution_count": 19,
   "id": "f0c5b5cd-4d68-4dae-8fbf-4cc309ea64e0",
   "metadata": {},
   "outputs": [],
   "source": [
    "del image_tags[0]"
   ]
  },
  {
   "cell_type": "code",
   "execution_count": 20,
   "id": "e180c9b2-3aea-4c1c-95bf-93d14eb611db",
   "metadata": {},
   "outputs": [
    {
     "data": {
      "text/plain": [
       "[<img alt=\"\" class=\"DS1iW\" src=\"https://encrypted-tbn0.gstatic.com/images?q=tbn:ANd9GcT-TC_64UbCp1xU0A2_yik-WFOMwVegfHOU090yCu0h28p3u1dCt3PLuFz7rw&amp;s\"/>,\n",
       " <img alt=\"\" class=\"DS1iW\" src=\"https://encrypted-tbn0.gstatic.com/images?q=tbn:ANd9GcSfIFc_YBpNH6KV6G742jPfgq_0Fm91ohrK0cHQS7dXDFzARKHEPKpbb3o3uw&amp;s\"/>,\n",
       " <img alt=\"\" class=\"DS1iW\" src=\"https://encrypted-tbn0.gstatic.com/images?q=tbn:ANd9GcT2DYWgR9G3AeJBYCTXvp2tdAZyMeJ-lqkxUtAeOq3--xev6Lsy1UEdfteIlA&amp;s\"/>,\n",
       " <img alt=\"\" class=\"DS1iW\" src=\"https://encrypted-tbn0.gstatic.com/images?q=tbn:ANd9GcTn-9HcMGMeSNA4tYNmxeuNiqbPlJm4uqRH7ec2CI_x5VNBIWbDddmvN7Z6SQ&amp;s\"/>,\n",
       " <img alt=\"\" class=\"DS1iW\" src=\"https://encrypted-tbn0.gstatic.com/images?q=tbn:ANd9GcS1Z3J_u11gTkc8ePdVCESLKiCo-DYtM_4CttJyQ1mFFJeEfviGln04zkvnfNw&amp;s\"/>,\n",
       " <img alt=\"\" class=\"DS1iW\" src=\"https://encrypted-tbn0.gstatic.com/images?q=tbn:ANd9GcRWU2tmJuSWI7rMmnAjri24y9hlxHQ817QQl1CzRjPyxVFJnn7T-_QryfrbfLM&amp;s\"/>,\n",
       " <img alt=\"\" class=\"DS1iW\" src=\"https://encrypted-tbn0.gstatic.com/images?q=tbn:ANd9GcQBcVdDEpLhSWocgXHSGrYIk0JSCKXzu-WNuVQZweOY-RElB1MfVJyN4GzEiA&amp;s\"/>,\n",
       " <img alt=\"\" class=\"DS1iW\" src=\"https://encrypted-tbn0.gstatic.com/images?q=tbn:ANd9GcSWApaT22J13f3cYSslNJhx6Vy_raDm726UwQzkwkHRWXXqSgu_Do2gZlNJX7c&amp;s\"/>,\n",
       " <img alt=\"\" class=\"DS1iW\" src=\"https://encrypted-tbn0.gstatic.com/images?q=tbn:ANd9GcR-17GOzV-WKbaM3ZXIAGCnsL3ziGCwExZ5JkAEGlsqhzI1HrOMx6xI5ItIR-U&amp;s\"/>,\n",
       " <img alt=\"\" class=\"DS1iW\" src=\"https://encrypted-tbn0.gstatic.com/images?q=tbn:ANd9GcTjr25DteGDWgb9CaWMRosB_5LazNvKuz-0YNE1Und7VZGGQxVkA-UkS7VfJqU&amp;s\"/>,\n",
       " <img alt=\"\" class=\"DS1iW\" src=\"https://encrypted-tbn0.gstatic.com/images?q=tbn:ANd9GcSyECz5RbBbmSX7nIn8KTKS7hQThH9adFIrY4amq9_BV2rfS9Ixog52MPMT3DQ&amp;s\"/>,\n",
       " <img alt=\"\" class=\"DS1iW\" src=\"https://encrypted-tbn0.gstatic.com/images?q=tbn:ANd9GcSPKGB4pckvRiByEzl-6B-kto2mlL_mw1n83xBhZzhNda2YIPYv5VyzMGKhIA&amp;s\"/>,\n",
       " <img alt=\"\" class=\"DS1iW\" src=\"https://encrypted-tbn0.gstatic.com/images?q=tbn:ANd9GcRv28JTBdzaCjH3LCUu7RiRM9RmpF20cEd9j8ZfvGn4Uc54-3ZdOOXESgAp8XU&amp;s\"/>,\n",
       " <img alt=\"\" class=\"DS1iW\" src=\"https://encrypted-tbn0.gstatic.com/images?q=tbn:ANd9GcSIrIxozjNsIXB3BX2xlB0Tf3e3hqwgJD7hKOOG1b0MsL7h2eetNuXOYuFOgw&amp;s\"/>,\n",
       " <img alt=\"\" class=\"DS1iW\" src=\"https://encrypted-tbn0.gstatic.com/images?q=tbn:ANd9GcRXu8eyqE5ico3eIiGEnUmgBV_YyfwK0AhaXQH2PCHZbIU6gpsksk-A46vNJA&amp;s\"/>,\n",
       " <img alt=\"\" class=\"DS1iW\" src=\"https://encrypted-tbn0.gstatic.com/images?q=tbn:ANd9GcRtEdTkzyZCrhuVNWy-6HC2uK1wN3VJI0sfZsa2CF0Wugs1lTcsZcKyvU37WR4&amp;s\"/>,\n",
       " <img alt=\"\" class=\"DS1iW\" src=\"https://encrypted-tbn0.gstatic.com/images?q=tbn:ANd9GcQQkJ0T6-mycfcUdMtfqrQ8hXaoUHqeyUdA0bzbaRtMNrD1XqbNS6_kiuM1cMQ&amp;s\"/>,\n",
       " <img alt=\"\" class=\"DS1iW\" src=\"https://encrypted-tbn0.gstatic.com/images?q=tbn:ANd9GcStyx_HyZtaT_OuTT5B57mv_ZQDpXR2ucPe_-QvSwjqHBUDS05McCeE2T8Y_UY&amp;s\"/>,\n",
       " <img alt=\"\" class=\"DS1iW\" src=\"https://encrypted-tbn0.gstatic.com/images?q=tbn:ANd9GcRmqUP1fY8YMLqeihJs9rHfXRiKGhwE4Rjp3pdicH308HADv6iL0bD3kfRxZQ&amp;s\"/>,\n",
       " <img alt=\"\" class=\"DS1iW\" src=\"https://encrypted-tbn0.gstatic.com/images?q=tbn:ANd9GcQcmv0lKKL3jSWQN6gPZ9ZvPEsiz9L11Zm37xlpjnXNI--siL_AIkFXEPqFnw&amp;s\"/>]"
      ]
     },
     "execution_count": 20,
     "metadata": {},
     "output_type": "execute_result"
    }
   ],
   "source": [
    "image_tags"
   ]
  },
  {
   "cell_type": "code",
   "execution_count": 21,
   "id": "2ca295aa-17e3-46b0-8136-f3d30871025b",
   "metadata": {},
   "outputs": [
    {
     "data": {
      "text/plain": [
       "'https://encrypted-tbn0.gstatic.com/images?q=tbn:ANd9GcSfIFc_YBpNH6KV6G742jPfgq_0Fm91ohrK0cHQS7dXDFzARKHEPKpbb3o3uw&s'"
      ]
     },
     "execution_count": 21,
     "metadata": {},
     "output_type": "execute_result"
    }
   ],
   "source": [
    "image_tags[1]['src']"
   ]
  },
  {
   "cell_type": "code",
   "execution_count": 31,
   "id": "e30a860c-53d4-4129-9b60-f01fdb6a8753",
   "metadata": {},
   "outputs": [],
   "source": [
    "for i in image_tags:\n",
    "    image_url = i['src']\n",
    "    image_data = requests.get(image_url).content\n",
    "    with open(os.path.join(save_dir,f\"{query}_{image_tags.index(i)}.jpg\"),\"wb\")as f :\n",
    "        f.write(image_data)"
   ]
  },
  {
   "cell_type": "code",
   "execution_count": 28,
   "id": "4a4671cc-64aa-4263-8fa4-6c0600f35803",
   "metadata": {},
   "outputs": [
    {
     "data": {
      "text/plain": [
       "b'\\xff\\xd8\\xff\\xe0\\x00\\x10JFIF\\x00\\x01\\x01\\x00\\x00\\x01\\x00\\x01\\x00\\x00\\xff\\xdb\\x00\\x84\\x00\\t\\x06\\x07\\x08\\x07\\x06\\t\\x08\\x07\\x08\\n\\n\\t\\x0b\\r\\x16\\x0f\\r\\x0c\\x0c\\r\\x1b\\x14\\x15\\x10\\x16 \\x1d\"\" \\x1d\\x1f\\x1f$(4,$&1\\'\\x1f\\x1f-=-157:::#+?D?8C49:7\\x01\\n\\n\\n\\r\\x0c\\r\\x1a\\x0f\\x0f\\x1a7%\\x1f%77777777777777777777777777777777777777777777777777\\xff\\xc0\\x00\\x11\\x08\\x00l\\x00\\xa2\\x03\\x01\"\\x00\\x02\\x11\\x01\\x03\\x11\\x01\\xff\\xc4\\x00\\x1c\\x00\\x00\\x01\\x05\\x01\\x01\\x01\\x00\\x00\\x00\\x00\\x00\\x00\\x00\\x00\\x00\\x00\\x00\\x02\\x03\\x04\\x05\\x06\\x07\\x01\\x08\\xff\\xc4\\x00A\\x10\\x00\\x01\\x03\\x02\\x03\\x04\\x07\\x05\\x02\\x0c\\x07\\x00\\x00\\x00\\x00\\x00\\x01\\x00\\x02\\x03\\x04\\x11\\x05\\x12!\\x061Aa\\x13\"2Qq\\x81\\x91\\x07\\x14\\xa1\\xb1\\xc1BR\\x15#$3Cr\\x82\\x92\\x93\\xa2\\xd2\\xe1\\x16\\x17S\\xb2\\xd1\\xf0\\xf1\\xff\\xc4\\x00\\x19\\x01\\x00\\x02\\x03\\x01\\x00\\x00\\x00\\x00\\x00\\x00\\x00\\x00\\x00\\x00\\x00\\x00\\x00\\x02\\x01\\x03\\x04\\x05\\xff\\xc4\\x00#\\x11\\x00\\x02\\x02\\x01\\x04\\x02\\x02\\x03\\x00\\x00\\x00\\x00\\x00\\x00\\x00\\x00\\x00\\x01\\x02\\x11\\x03\\x12!1A\\x042Qa\\x14\"3\\xff\\xda\\x00\\x0c\\x03\\x01\\x00\\x02\\x11\\x03\\x11\\x00?\\x00\\xc7!\\x08]\\x92\\xd0W[\\x1d\\x89\\xc1\\x83\\xe3\\xf0V\\xd5\\x12\"c^\\r\\xb9\\xb4\\x85J\\x91)\\xb3\\t\\n\\x1cu* \\xec\\x8d\\xf6\\x89\\x82}\\xf7\\xfe\\xe9^\\x9fh\\xb8\\'\\xfa\\xaf\\xfd\\xc2\\xb8\\xbcbI$k\\x19r\\xe7h\\x02y\\xf0\\xcb\\x1b\\xcb$k\\x83\\x81\\xdde\\x9f\\xf1!\\xf2\\xc8:\\x0e\\xde\\xedM\\x0e;\\xb3\\x12\\xc5B\\xf2]\\x1c\\xf1\\x97]\\xa4q\\\\\\xf4L#as\\xcd\\x9a7\\x9b\\xa9\\x90F?\\x02\\xd6\\x89A\\x04\\xc8\\xcc\\xbe+9\\x8bT\\x18\\x9a\\x03E\\xf2\\x8b\\xf7\\xd8\\xab)a\\x86\\xc4|\\x92\\xaa1Ib`\\x91\\x8cnK\\xf1\\xde\\x99v99\\xecF\\xc6\\ru-&\\xe9\\x96`\\xf8\\xcc\\x98[\\xab]I!\\x84\\x9d\\t\\x1b\\xc7!\\xdc\\xaba\\xa7\\xad\\xa9\\x93%5<\\x8e \\xd8\\x8bh\\xb1\\xfeD\\x9fci\\x9f\\xc1{O\\x8f\\x0c\\xf9g`\\xfdfn\\x1eJ\\xee)\\x98\\xf6\\x875\\xc0\\x87\\x0b\\x8dV\\x1a\\xb2\\x86\\xbe\\x8c\\x8fy\\x81\\xf1\\xf8\\xea\\x9f\\xc3\\xb1\\x07\\xd1\\x96\\xe69\\xacwrWa\\xf2i\\xd4\\x88\\xddrnC\\xd1\\x98\\xa8\\xb4\\xf2\\x89bd\\x8d\\xec\\xb8\\\\\\'n\\xe3\\xa2\\xe8tH\\xa7\\xbc\\x06\\x9e:,\\x9e2A\\xc4a\\xd3\\xec\\xfdV\\xa1\\xed\\xea\\x9dx,\\xae-\\xae\\'\\x0b{\\x9a>j\\xac\\xafa$[R\\xfd\\xa5!1L\\x08.O\\xa5\\x87\\x04\\xc3\\x80B\\x10\\x98pB\\x10\\x80\\x04!\\x08\\x00H\\x98^2\\x96\\x91/a\\x00\\x10=\\xd1J\\xc9#6su\\t\\xf9*\\'\\x96G=\\xf2\\xba\\xee76Q\\xdb\\xc19\\xc1HlKs\\x9epI\\x9cn\\x7f(`7\\xf0*\\x8a*s\\x88c\\x11P89\\xc2Y\\x1a\\xd6\\x81\\xf5W\\xcf\\x07\\xfc5)\\x1ckY\\xfe\\xd2\\x9b\\xd9\\n#>\\xd7\\xc3%\\xf2\\x86\\xd3H\\xf6\\x1f\\xba\\xfbe\\xbf\\xc5g\\xf2\\x7f\\x9d\\x91\\x05\\xaau\\xf6u\\xfa8\\xe9\\xa2\\xa1lr\\x86\\r\\x00\\xb1 rQe\\xa4\\xa2\\x82\\'\\xbf\\xa1\\x8a&\\xef\\xbb\\xac>+\\r\\x8ba\\x0es\\xa3.\\xa0|\\xb2\\xb5\\xc4g}C\\xc96\\xdcr\\x8d5S\\xb6\\x9b\\xa5\\x92\\x93\\x0f\\xa2t9\\xcb\\xd9\\xf8\\xc0\\xe7\\x1f\\xfd\\\\\\xcaGV:\\xb7d\\x1d\\xab\\x82\\x9e\\xb2\\x96V@\\xf8\\x9c\\xe2:\\xb6p+\\x92M\\x99\\x92\\xbe9\\x05\\x9c\\xd2A]\\x16\\xaf\\x04ts\\xe4\\xa3\\xa1\\x8a8\\xd8\\xef\\xce\\xc6\\xf7\\xde\\xdd\\xe6\\xff\\x00%\\x97\\xdaZ\\x12q\\x98\\xdb\\x0bs\\x19\\x1a3[\\x8e\\xb6\\xfa\\xa7\\x8a\\xe8\\xc7\\xe4\\xc5\\xcb\\xf6\\xa2\\xf3\\x03\\x887\\t\\xa6\\x12\\xbc5\\xd9/b\\x14\\xeb0~\\x99\\x9e\\x850\\xd8\\xde\\xc6\\x86\\xb67\\x00\\x05\\xac\\x02\\xf2\\xcf\\xe2\\xc7z.\\xe4U$\\xa8\\xc8>\\xf6\\xb0\\xb4\\xfe9\\x9b\\xb9\\xac\\xcdu;d\\xc4\\xcb\\xbaQ\\xd4\\x88;N:\\xab\\xee\\x8eW\\x9c\\xacc\\x89:\\r\\x16s\\x11l\\x90\\xe2\\xedd\\x80\\xb5\\xc06\\xe3\\xcc\\xa4\\xca\\xb6\\xba\\x16_E\\xb56\\xf7k\\xdc\\x9eLR\\xb8\\xbb5\\xf9\\'\\xd5q\\xe0hz\\x82\\x10\\x84\\xc3\\x82\\x10\\x84\\x00!\\x08@\\x02L\\x9d\\x8d\\x05\\xd2\\x93\\x15\\xaf\\x96:w:\\x01w\\x82,<\\xd0@\\xe3o\\xdd\\xf0^\\x93\\xc9V\\xb6\\xb7\\x11\\x1f\\xa3\\xbf\\x9a\\xf5\\xd5\\x95\\xe7|\\x1f\\x14j\\x17Q\\xa1\\x9b\\xab\\xb2\\x80\\xee\\xcd^\\x07\\xf2\\x14\\xf6\\xc7\\xf5q\\xeaw\\xf71\\xe3\\xe1\\xfd\\x94\\x07\\xd4=\\xfb#O\\xef\\r\\xc8N t\\xfd\\x82\\x93\\x82\\xe2l\\xa1\\xc4!\\x9f?Q\\xae\\xeb\\x81\\xf7x\\xa4\\xca\\xb5chlSJv\\xce\\xa9WZ\\xc6\\xf5a\\x8d\\xa4\\x86\\x92\\xe79\\xc0\\x13\\xc8,\\x8e\\xd1cp:\\xba!O\\x04\\xd9\\xe2fW\\x12\\xdb4\\x1f\\xaf\\x82\\xd0\\xfb\\xbd-{\\xd9.w\\xb4\\x86X\\x16\\xb8\\x0b\\xddUb4U\\x0f=\\x13\\xa2\\xb4A\\xd6\\x0f\\xf7\\xa7z\\xd8X.DR\\xec\\xebNO\\xa6\\x158\\xacU\\x98a{\\x18\\x03\\xc0\\xd7/z\\xc8>\\x07?\\x10\\xf7\\x92\\xee\\xccn\\x05\\xb6\\xde\\r\\x95\\xec\\x92RPS>\\x9a\\x9d\\x9dk\\xeb\\xad\\xee\\xb3\\xf2\\xd4g\\x95\\xc6\\xf6\\xb9\\xd1[\\x86\\x1a\\xa6\\x92(\\xcd\\x96\\xe3ls\\xa4w\\xdep\\xf3@\\x95\\xe3\\xed\\xbf\\xd4\\xa6\\x84\\x97\\xe2\\x17\\x99\\xd7os\\x9d\\xb3$\\xb6\\xaaFu\\x9a\\xf7\\\\\\x0e$\\xac\\xc5t\\xce\\xa8\\xc6\\xb3\\xc9\\xbc\\xe5\\xdc\\xaf\\x9e\\xf1\\x90\\xf8,\\xedE\\xbf\\n^\\xff\\x00uU\\x95\\xbd5\\xd0\\x8d+.\\xe9\\x85\\xb3im\\xc9\\xe5\\x12\\x85\\xd9\\x9c\\xff\\x00%-$Zka\\xe0\\xb6\\x04!\\t\\x87\\x04!\\x08\\x00B\\x10\\x80\\x05\\xe3\\x89h\\xb8\\xde\\xbd^<\\x12,\\x10@\\t\\x1f\\xc4\\x8fD\\xa7<\\xdb\\\\\\xbe\\x89\\xb0\\x08({\\xad\\xbd\\x0e\\xe8\\x82N%\\xae\\xcb\\xd1\\x02\\x00\\x06\\xb9\\xe7\\xf9J\\xa7\\x11\\xb0\\x8dl\\xad\\xb1)\\xa2v\\x03CN\\xd9\\x1aeeL\\x8fs\\x01\\xd4\\x0bX\\x15k\\xec\\xf2\\x82\\x92|JLS\\x17{b\\xc3p\\xc6\\x89ds\\xfb.\\x7f\\xd8\\x1f\\x02|\\x82\\xaeY\\x12E}\\x96\\xf8~\\x1b\\x89axE3k\\\\\\xe6\\xc9$fFGn\\xb4L\\xbe\\x97\\xff\\x00\\x8e\\n\\xb2\\xb7\\x11\\xaf~h\\x9bP\\xd2\\xdd\\xc4\\xea\\x17I\\xc5\\xea\\xa8\\xea\\xa3\\xa0\\xc4\\xe3\\xb9\\xa7\\x9c\\xb5\\x8ds\\x9aZr\\xb8ipE\\xc6\\xa0\\r{\\xd5]^\\xce\\xd3\\xd4J\\x1fk\\x0e\\xec\\xb7\\xfa\\xaed\\xe7RgK\\x145Ansa\\x04\\xae9s9\\xee;\\xdc\\x9a\\xc4\\xe8\\x8d.\\x1b\\xefn\\x16\\r\\x9d\\xb1\\x01\\xdfv\\xb8\\x9f\\x90\\xf5]-\\xbb9\\x01\\x91\\xb0R\\xb1\\xc6g\\x9br\\x1c\\xcf%\\x8d\\xf6\\x8a\\xd8ij\\xe1\\xc1\\xa9\\x1f\\x9a\\x1aA\\x9aW\\xdbY%wh\\xfd<\\x93\\xe0\\x94\\x9c\\xed\\x15y:a\\x1a\\xed\\x99\\xb8`t\\xa0:>\\xb0;\\x88K0\\xbd\\xbb\\xda~!C\\x86I\\x1b0l/ \\x81s\\xa6\\x97R\\xdbX\\xf3\\xf9\\xdb\\xdf\\x89i]X\\xe7]\\x98\\x15\\r\\xc8\\xe2\\xc0o\\x1b\\x88\\xe3\\xd6TU\\'>/\\x9a0\\xe6\\xb4\\x16\\xdc\\x13~\\x0bC<\\x8e\\xe8\\x9cD\\xba[\\xbdg\\xfaG\\xbb\\x11p/\\xbd\\xdc>J3\\xc9J$\\xd6\\xe5\\xce\\x1fl\\xd2[\\xb8)\\x8a\\x16\\x1e,\\xe9<\\x02\\x9a\\xaa\\xc5\\xea\\x8bc\\xc0!\\x08V\\x8c\\x08B\\x10\\x00\\x84!\\x00\\x0b\\xc7\\x1b\\x05\\xeaL\\x9d\\x94\\x10\\xc0\\xbb\\x99P_!\\x99\\xee{\\x8fP\\x1b4w\\xf3R&vF\\x92O\\r\\x130\\xc7r\\xc6\\x9d\\xcd\\x03Nj\\x8c\\x92ob\\xa9\\xba\\x08\\xe2s\\xb5-\\xbd\\xfb\\xd7D\\xf6i\\xb3g\\x1b\\x84\\x9cE\\xb9\\xb0\\xaaJ\\x8e\\x95\\xb1p\\x9a|\\xa0u\\xbb\\xc3E\\x8f\\x89X\\xc6G#\\xdc\\xc8\\xa1fi\\x1eC\\x18\\xd1\\xc5\\xc7@\\x17\\xd0\\x9b=\\x84\\xc5\\x81\\xe0\\xb4\\xb8|V=\\x13:\\xee\\x1fi\\xe7W\\x1fUFGJ\\x85\\x8e\\xe7\\x95\\xf8%\\x15e\\x08\\xa4tY#\\x0e\\x0e\\x01\\x9c\\x08\\xe2<\\xd4H\\xa9g2\\xba\\x97\\xa3\\xb1\\x8e\\xc0\\xbc\\x8b\\x02-\\xa1W\\x9b\\xf4^>0\\xd2n\\xf7\\x9f\\xdaY\\x9cm\\x9a!\\x9aPT\\x8a\\x81\\x1c\\xd4o\\xfc\\x96\\x98=\\xce6|\\xb2\\x1b_\\x90\\xb2\\xe0x\\xe5g\\xbe\\xe35\\x95=\\xa6\\xbeg\\x16\\xeb}/\\xa2\\xee\\x9bg\\x88\\x8c+f\\xf1\\n\\xc6\\x9c\\xaflF8\\xbf]\\xe7(\\xf9\\xfc\\x17\\xcf.wF\\xc2@\\xdd\\xb8|\\x96\\x8cIQFI\\xb9;b#.|\\xf2:\\xfdV\\x90\\xd1\\xdc{\\xcat\\xf7\\xa4F\\xde\\x8e0\\xdd\\xfc\\xfb\\xd2\\x8e\\x8a\\xd2\\xb3\\xc3\\xae\\x87\\xc5@\\xb8mK\\x1e\\xd6\\xb4\\x1b\\xeba\\xbdM\\'C\\xe0\\xa3>0\\xde\\xb5\\xb5QmpJ,(\\x9f\\x99\\xcf\\xd0\\x0b[pR\\x94\\x0c0\\xdc\\xcb\\xe0\\x14\\xf5~\\'q4C\\x80B\\x10\\xac\\x18\\x10\\x84 \\x01\\x08B\\x00\\x12d\\xec\\x14\\xa4\\x99;\\x05C\\x02\\xb3\\x13\\x97\\'D\\xc1\\xc5\\xd7*V\\x1eo+\\x89\\xd4\\xaaLRb\\xfa\\x97\\xeb\\xa3N_O\\xee\\xad\\xf0\\xb2\\\\nx0z\\xac\\xba\\xaeFy\\x1b\\x7fg\\x14\"\\xbflh\\xc3\\xc5\\xd9J\\xc7T;M.4\\x1f\\x12=\\x17r:\\x85\\xca}\\x8b\\xc2\\x1f\\x88b\\x95G{cdm\\xf37? \\xba\\xb1*\\x8c\\xae\\xe4Lx\\x06\\x0b\\x12\\x92\\xf1r\\xbdgf\\xeb\\xc1\\xbfUY\\'0\\xf6\\xd3\\x88\\xe4\\xa5\\xc3\\xf0\\xa8\\xddc#\\x8c\\xf2\\x0eCF\\xdf\\xcc\\x9fE\\xc9\\x9f\\xd6\\x91\\xad\\xe0:\\xc6\\xdf\\x0f\\xfb\\xc9j\\xfd\\xa5W\\xfe\\x10\\xdb\\x1a\\xe2\\r\\xe3\\xa7-\\x81\\x9f\\xb25\\xfeb\\xe5\\x91\\x8d\\xd7k\\xa4\\xd3\\xaen<8-PU\\x12\\xb7\\xc8\\xe1)\\x0e\\x7fU6\\xe9\\x06\\xed|\\x93/\\x98\\x0b\\ru6\\xdc\\x98\\t\\x0eu\\xc1\\xb7zK\\xb5\\x1c\\xd2Z\\xec\\xc0\\xd8ku\\xee\\x83y\\xb9P@\\xfe\\x15\\xdb\\x9b\\xc9X(Xwj_\\x00\\xa6\\xab\\xf1\\xfa\\x9aa\\xc0!\\x08V\\x0c\\x08B\\x10\\x00\\x84!\\x00\\t\\xb9\\xdc\\x19\\x0b\\x9cw\\x01t\\xe2\\x8f_\\xad$\\x8d\\xe0\\xee\\xa9\\xe4\\x96N\\x93!\\xf0eeq{\\x89;\\xc9Z<?N\\x97\\x95\\x82\\xab41f\\xde\\xff\\x00U1\\x92:\"Z\\xcbu\\x8e\\xa4\\x85\\x8a2\\xdc\\xa1\\x9dg\\xd8\\xe5Sb\\xf7\\xc8w\\xc9)\\xcdn\\xe0,>\\xab\\xa9\\xb9\\xc7-\\xbe\\xd1_5\\xec\\xee\\xd4\\xd7\\xec\\xdc\\xb2T\\xd0\\xb2\\x9d\\xefx\\xb1\\x130\\x907n\\xb1\\x1d\\xcbG\\xfem\\xed\\x1174\\xf8w\\xf0\\x9f\\xfdi\\'\\xbb\\x19\\x1d\\xd4h\\xc09(\\xd5\\x95L\\xa4\\xa4\\x9a\\xa6SfB\\xc7=\\xde\\x00]qS\\xed{h\\xf7{\\xbe\\x1b\\xfc\\x17\\xff\\x00Z\\x83\\x8a\\xfbM\\xc7q<:\\xa2\\x86xhY\\x15CLotq\\xb8;)\\xdfc\\x99\"@\\xcc\\xae/X\\xf9L\\xd3H\\xe3\\xd3T<\\x92y\\x93s\\xf5L\\xb7\\xf3`p\\xb2nv\\t\\xa4k\\x9eOWp\\xe0\\x12\\xf9-)\\x95\\x8d\\x9b\\x02\\xa3\\xc9\\xa4\\x97R\\xb2\\xdco)\\xb3\\x0b_\\xa9%\\x16I\\xed+\\xbf\\x16\\xeeo?D\\xe6n\\x02\\xd7\\xe1t\\x88\\xa2\\x0c\\x04\\x02m{\\xea\\x97|\\xa2\\xc3\\xd7\\x8a\\x84\\xc8\\xa2n\\x1f\\xda\\x90\\x17\\x02\\xeb\\x0b\\x8e\\xe55A\\xc3\\x18\\x19\\xd2\\xdb\\xcc\\xf7\\xa9\\xcbV?SD=A\\x08Bq\\x81\\x08B\\x00\\xff\\xd9'"
      ]
     },
     "execution_count": 28,
     "metadata": {},
     "output_type": "execute_result"
    }
   ],
   "source": [
    "requests.get(image_tags[1]['src']).content  #base_64 format but store data in jpg"
   ]
  },
  {
   "cell_type": "code",
   "execution_count": null,
   "id": "27ece9d3-9e48-4646-bff2-b4d365fe1d96",
   "metadata": {},
   "outputs": [],
   "source": [
    "#API----application programming interface"
   ]
  },
  {
   "cell_type": "code",
   "execution_count": null,
   "id": "d2691020-89af-48e8-ae2a-4ceb12144fcc",
   "metadata": {},
   "outputs": [],
   "source": [
    "#simple api\n",
    "from flask import Flask,request\n",
    "\n",
    "app = Flask(_name_)\n",
    "\n",
    "\n",
    "@app.route('/add')  #decorator---route\n",
    "def addition():\n",
    "    return f\"this is my test fun\"\n",
    "\n",
    "if _name_ == '_main_':\n",
    "    app.run(host=\"0.0.0.0\")"
   ]
  },
  {
   "cell_type": "code",
   "execution_count": null,
   "id": "32a9b395-165c-4c2e-8971-a5d20d93426f",
   "metadata": {},
   "outputs": [],
   "source": [
    "#form like name password submit\n",
    "from flask import Flask,request,jsonify,render_template\n",
    "\n",
    "app = Flask(_name_)\n",
    "\n",
    "@app.route('/')\n",
    "def show_form():\n",
    "    return render_template('index.html')              #render template you will able to show case html file\n",
    "\n",
    "@app.route('/check_password',methods = ['POST'] )\n",
    "def check_password():\n",
    "    name = request.form.get('username')\n",
    "    password= request.form.get('password')\n",
    "\n",
    "    return \"username and password received\"\n",
    "\n",
    "if _name_ == \"_main_\":\n",
    "    app.run(host=\"0.0.0.0\",port=5001)  #this is host that i am working now"
   ]
  },
  {
   "cell_type": "code",
   "execution_count": null,
   "id": "efc56ec0-48f6-4b24-a3e9-4f0bd1f549c2",
   "metadata": {},
   "outputs": [],
   "source": [
    "#html code\n",
    "<!DOCTYPE html>\n",
    "<html>\n",
    "<head>          \n",
    "    <title>Form Example</title>\n",
    "</head>\n",
    "<body>\n",
    "    <h1>Submit a Form</h1>\n",
    "    <form action=\"/check_password\" method=\"post\">\n",
    "        <label for =\"username\">Username:</label>\n",
    "        <input type=\"text\" id=\"username\" name=\"username\" required><br><br>\n",
    "\n",
    "        <label for =\"password\">Password:</label>\n",
    "        <input type=\"password\" id=\"password\" name=\"password\" required><br><br>\n",
    "\n",
    "        <input type=\"submit\" value=\"ok\">\n",
    "    </form>\n",
    "</body>\n",
    "</html>"
   ]
  },
  {
   "cell_type": "code",
   "execution_count": null,
   "id": "f6ec9643-0a9c-4c76-b373-a22cd1ee3f98",
   "metadata": {},
   "outputs": [],
   "source": [
    "#calculator down flow -------------- for calculator problem\n",
    "<!DOCTYPE html>\n",
    "<html>\n",
    "<head>\n",
    "    <title>calculator</title>\n",
    "</head>\n",
    "<div class=\"content\">\n",
    "    <div class=\"form\">\n",
    "        <form action=\"/math\" method=\"POST\">\n",
    "            <label for=\"operation\">Choose a Mathematical Operation</label>\n",
    "\n",
    "<select id=\"operation\" name=\"operation\">\n",
    "  <option value=\"add\">add</option>\n",
    "  <option value=\"subtract\">subtract</option>\n",
    "  <option value=\"multiply\">multiply</option>\n",
    "  <option value=\"divide\">divide</option>\n",
    "</select>\n",
    "            <input type=\"text\" name=\"num1\" id=\"num1\">\n",
    "            <input type=\"text\" name=\"num2\" id=\"num2\">\n",
    "            <input type=\"submit\" value=\"Calculate\">\n",
    "        </form>\n",
    "    </div>\n",
    "</div>\n",
    "</html>                           "
   ]
  },
  {
   "cell_type": "code",
   "execution_count": null,
   "id": "203097ac-aa85-4be4-b02c-385107d5fcca",
   "metadata": {},
   "outputs": [],
   "source": [
    "#html\n",
    "from flask import Flask,request,render_template\n",
    "\n",
    "app = Flask(_name_)\n",
    "\n",
    "\n",
    "@app.route('/additi')\n",
    "def cal_page():\n",
    "    return render_template('index.html')\n",
    "\n",
    "@app.route(\"/math\",methods = ['POST'])\n",
    "def calculator_test():\n",
    "    \n",
    "    ops = request.form['operation']\n",
    "    first_number = int(request.form['num1'])\n",
    "    second_number = int(request.form['num2'])\n",
    "\n",
    "    if (ops=='add'):\n",
    "        r= first_number +second_number\n",
    "        return f\"addition is {r}\"\n",
    "    if (ops=='subtract'):\n",
    "        r = first_number - second_number\n",
    "        return f\"subtraction is {r}\"\n",
    "    if (ops=='multiply'):\n",
    "        r = first_number * second_number\n",
    "        return f\"multiplication is {r}\"\n",
    "    if (ops=='divide'):\n",
    "        r =  first_number / second_number\n",
    "        return f\"division is {r}\"\n",
    "if _name_ == '_main_':\n",
    "    app.run(host='0.0.0.0',port=8004)"
   ]
  }
 ],
 "metadata": {
  "kernelspec": {
   "display_name": "Python 3 (ipykernel)",
   "language": "python",
   "name": "python3"
  },
  "language_info": {
   "codemirror_mode": {
    "name": "ipython",
    "version": 3
   },
   "file_extension": ".py",
   "mimetype": "text/x-python",
   "name": "python",
   "nbconvert_exporter": "python",
   "pygments_lexer": "ipython3",
   "version": "3.10.8"
  }
 },
 "nbformat": 4,
 "nbformat_minor": 5
}
